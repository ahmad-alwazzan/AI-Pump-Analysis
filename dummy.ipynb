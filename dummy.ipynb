{
 "cells": [
  {
   "cell_type": "code",
   "execution_count": 1,
   "id": "2e092671",
   "metadata": {},
   "outputs": [],
   "source": [
    "import csv\n",
    "import json\n",
    "import pandas as pd\n",
    "import pickle\n",
    "import numpy as np\n",
    "import seaborn as sns\n",
    "import matplotlib.pyplot as plt\n",
    "sns.set_style(\"darkgrid\")\n",
    "from itertools import combinations\n",
    "import matplotlib.dates as mdates\n",
    "from datetime import datetime\n",
    "from sklearn.decomposition import PCA\n",
    "from sklearn.ensemble import IsolationForest\n",
    "from sklearn.preprocessing import StandardScaler\n",
    "import pickle\n",
    "\n",
    "csvFilePath = 'training\\simulated_data.csv'\n",
    "jsonFilePath = 'json\\simulated_data.json'\n",
    "data = {}\n",
    "\n",
    "# for wells set to 0 / for simulated data set to 1\n",
    "i = 1"
   ]
  },
  {
   "cell_type": "code",
   "execution_count": 2,
   "id": "7f91af4b",
   "metadata": {},
   "outputs": [],
   "source": [
    "\n",
    "# Load the JSON file\n",
    "with open(jsonFilePath) as dataFile:\n",
    "    data = json.load(dataFile)"
   ]
  },
  {
   "cell_type": "code",
   "execution_count": 3,
   "id": "871afa64",
   "metadata": {},
   "outputs": [],
   "source": [
    "data = data[\"1\"]"
   ]
  },
  {
   "cell_type": "code",
   "execution_count": 4,
   "id": "77f62e66",
   "metadata": {},
   "outputs": [],
   "source": [
    "# load the pretrained model \n",
    "if i == 0:\n",
    "    with open(\"ModelTimeSeriesWells.pkl\",\"rb\") as f:\n",
    "        model = pickle.load(f)\n",
    "    with open(\"Model.pkl\",\"rb\") as f:\n",
    "        detector=pickle.load(f)\n",
    "    with open(\"PCA_Transform.pkl\",\"rb\") as f:\n",
    "        pca=pickle.load(f)\n",
    "    with open(\"Scalar.pkl\",\"rb\") as f:\n",
    "        scalar=pickle.load(f)\n",
    "else:\n",
    "    with open(\"ModelTimeSeriesSimulated_data.pkl\",\"rb\") as f:\n",
    "        model = pickle.load(f)\n",
    "    with open(\"Model.pkl\",\"rb\") as f:\n",
    "        detector=pickle.load(f)\n",
    "    with open(\"PCA_Transform.pkl\",\"rb\") as f:\n",
    "        pca=pickle.load(f)\n",
    "    with open(\"Scalar.pkl\",\"rb\") as f:\n",
    "        scalar=pickle.load(f)"
   ]
  },
  {
   "cell_type": "code",
   "execution_count": 5,
   "id": "eb0ae3b9",
   "metadata": {},
   "outputs": [
    {
     "data": {
      "text/plain": [
       "1"
      ]
     },
     "execution_count": 5,
     "metadata": {},
     "output_type": "execute_result"
    }
   ],
   "source": [
    "df_json = data\n",
    "\n",
    "row=pd.Series(df_json)[[\"Drive Frequency\",\"Average Amps\",\"Discharge Pressure\",\"Intake Pressure\",\"Intake Temperature\",\"Motor Temperature\"]].values\n",
    "df0=pd.Series(df_json)[[\"Drive Frequency\",\"Average Amps\",\"Discharge Pressure\",\"Intake Pressure\",\"Intake Temperature\",\"Motor Temperature\"]].values\n",
    "row=np.array(row,dtype=\"float32\").reshape(1,-1)\n",
    "predictiontemp = detector.predict(pca.transform(scalar.transform(row)))\n",
    "predictiontemp[0]"
   ]
  },
  {
   "cell_type": "code",
   "execution_count": 6,
   "id": "51470973",
   "metadata": {},
   "outputs": [],
   "source": [
    "df00 = pd.DataFrame(data=row,columns=[\"Drive Frequency\",\"Average Amps\",\"Discharge Pressure\",\"Intake Pressure\",\"Intake Temperature\",\"Motor Temperature\"])"
   ]
  },
  {
   "cell_type": "code",
   "execution_count": 7,
   "id": "149b8066",
   "metadata": {},
   "outputs": [],
   "source": [
    "dates=pd.date_range(start=\"2021-06-01\",end=\"2021-06-21\",periods=10)\n",
    "df00[\"Time\"] = str(dates[3])"
   ]
  },
  {
   "cell_type": "code",
   "execution_count": 8,
   "id": "cdf0af62",
   "metadata": {},
   "outputs": [],
   "source": [
    "df00 = df00.set_index(\"Time\")"
   ]
  },
  {
   "cell_type": "code",
   "execution_count": 9,
   "id": "9e2db2e4",
   "metadata": {},
   "outputs": [
    {
     "data": {
      "text/html": [
       "<div>\n",
       "<style scoped>\n",
       "    .dataframe tbody tr th:only-of-type {\n",
       "        vertical-align: middle;\n",
       "    }\n",
       "\n",
       "    .dataframe tbody tr th {\n",
       "        vertical-align: top;\n",
       "    }\n",
       "\n",
       "    .dataframe thead th {\n",
       "        text-align: right;\n",
       "    }\n",
       "</style>\n",
       "<table border=\"1\" class=\"dataframe\">\n",
       "  <thead>\n",
       "    <tr style=\"text-align: right;\">\n",
       "      <th></th>\n",
       "      <th>Drive Frequency</th>\n",
       "      <th>Average Amps</th>\n",
       "      <th>Discharge Pressure</th>\n",
       "      <th>Intake Pressure</th>\n",
       "      <th>Intake Temperature</th>\n",
       "      <th>Motor Temperature</th>\n",
       "    </tr>\n",
       "    <tr>\n",
       "      <th>Time</th>\n",
       "      <th></th>\n",
       "      <th></th>\n",
       "      <th></th>\n",
       "      <th></th>\n",
       "      <th></th>\n",
       "      <th></th>\n",
       "    </tr>\n",
       "  </thead>\n",
       "  <tbody>\n",
       "    <tr>\n",
       "      <th>2021-06-07 16:00:00</th>\n",
       "      <td>52.900002</td>\n",
       "      <td>38.5</td>\n",
       "      <td>652.409973</td>\n",
       "      <td>1370.949951</td>\n",
       "      <td>61.900002</td>\n",
       "      <td>84.800003</td>\n",
       "    </tr>\n",
       "  </tbody>\n",
       "</table>\n",
       "</div>"
      ],
      "text/plain": [
       "                     Drive Frequency  Average Amps  Discharge Pressure  \\\n",
       "Time                                                                     \n",
       "2021-06-07 16:00:00        52.900002          38.5          652.409973   \n",
       "\n",
       "                     Intake Pressure  Intake Temperature  Motor Temperature  \n",
       "Time                                                                         \n",
       "2021-06-07 16:00:00      1370.949951           61.900002          84.800003  "
      ]
     },
     "execution_count": 9,
     "metadata": {},
     "output_type": "execute_result"
    }
   ],
   "source": [
    "df00"
   ]
  },
  {
   "cell_type": "code",
   "execution_count": 10,
   "id": "8e5c19ee",
   "metadata": {},
   "outputs": [
    {
     "name": "stdout",
     "output_type": "stream",
     "text": [
      "There is no outlier in Drive Frequency\n",
      "\n",
      "There is no outlier in Average Amps\n",
      "\n",
      "There are total 1 outliers in Discharge Pressure columns\n"
     ]
    },
    {
     "data": {
      "image/png": "[encoded data removed]",
      "text/plain": [
       "<Figure size 1440x720 with 1 Axes>"
      ]
     },
     "metadata": {},
     "output_type": "display_data"
    },
    {
     "name": "stdout",
     "output_type": "stream",
     "text": [
      "There are total 1 outliers in Intake Pressure columns\n"
     ]
    },
    {
     "data": {
      "image/png": "[encoded data removed]",
      "text/plain": [
       "<Figure size 1440x720 with 1 Axes>"
      ]
     },
     "metadata": {},
     "output_type": "display_data"
    },
    {
     "name": "stdout",
     "output_type": "stream",
     "text": [
      "There is no outlier in Intake Temperature\n",
      "\n",
      "There is no outlier in Motor Temperature\n",
      "\n"
     ]
    }
   ],
   "source": [
    "plt.suptitle(\"Let's Detect Outlier using Isolation Forest\",fontsize=25)\n",
    "dfTimeSeries = df00.copy()\n",
    "for col in df00.columns:\n",
    "    p=model.predict(df00[col].values.reshape(-1,1))\n",
    "    temp=df00[p==-1][col]\n",
    "    dfTimeSeries[f\"{col} anomaly\"] = p\n",
    " \n",
    "    \n",
    "    if len(temp)> 0:\n",
    "        print(f\"There are total {len(temp)} outliers in {col} columns\")\n",
    "        df00[col].plot(figsize=(20,10),fontsize=13,color=\"green\")\n",
    "        plt.scatter(x=temp.index,y=temp.values,s=50,c=\"red\",alpha=1)\n",
    "        plt.ylabel(col,fontsize=15)\n",
    "        plt.xlabel(\"Time\",fontsize=15)\n",
    "        plt.show()\n",
    "    else:\n",
    "        print(f\"There is no outlier in {col}\\n\")\n"
   ]
  },
  {
   "cell_type": "code",
   "execution_count": 11,
   "id": "c5cfc679",
   "metadata": {},
   "outputs": [
    {
     "data": {
      "text/html": [
       "<div>\n",
       "<style scoped>\n",
       "    .dataframe tbody tr th:only-of-type {\n",
       "        vertical-align: middle;\n",
       "    }\n",
       "\n",
       "    .dataframe tbody tr th {\n",
       "        vertical-align: top;\n",
       "    }\n",
       "\n",
       "    .dataframe thead th {\n",
       "        text-align: right;\n",
       "    }\n",
       "</style>\n",
       "<table border=\"1\" class=\"dataframe\">\n",
       "  <thead>\n",
       "    <tr style=\"text-align: right;\">\n",
       "      <th></th>\n",
       "      <th>Drive Frequency</th>\n",
       "      <th>Average Amps</th>\n",
       "      <th>Discharge Pressure</th>\n",
       "      <th>Intake Pressure</th>\n",
       "      <th>Intake Temperature</th>\n",
       "      <th>Motor Temperature</th>\n",
       "    </tr>\n",
       "    <tr>\n",
       "      <th>Time</th>\n",
       "      <th></th>\n",
       "      <th></th>\n",
       "      <th></th>\n",
       "      <th></th>\n",
       "      <th></th>\n",
       "      <th></th>\n",
       "    </tr>\n",
       "  </thead>\n",
       "  <tbody>\n",
       "    <tr>\n",
       "      <th>2021-06-07 16:00:00</th>\n",
       "      <td>52.900002</td>\n",
       "      <td>38.5</td>\n",
       "      <td>652.409973</td>\n",
       "      <td>1370.949951</td>\n",
       "      <td>61.900002</td>\n",
       "      <td>84.800003</td>\n",
       "    </tr>\n",
       "  </tbody>\n",
       "</table>\n",
       "</div>"
      ],
      "text/plain": [
       "                     Drive Frequency  Average Amps  Discharge Pressure  \\\n",
       "Time                                                                     \n",
       "2021-06-07 16:00:00        52.900002          38.5          652.409973   \n",
       "\n",
       "                     Intake Pressure  Intake Temperature  Motor Temperature  \n",
       "Time                                                                         \n",
       "2021-06-07 16:00:00      1370.949951           61.900002          84.800003  "
      ]
     },
     "execution_count": 11,
     "metadata": {},
     "output_type": "execute_result"
    }
   ],
   "source": [
    "# df00"
   ]
  },
  {
   "cell_type": "code",
   "execution_count": 12,
   "id": "ecafba83",
   "metadata": {},
   "outputs": [
    {
     "data": {
      "text/plain": [
       "<matplotlib.colorbar.Colorbar at 0x1dff115fc40>"
      ]
     },
     "execution_count": 12,
     "metadata": {},
     "output_type": "execute_result"
    },
    {
     "data": {
      "image/png": "[encoded data removed]",
      "text/plain": [
       "<Figure size 720x576 with 2 Axes>"
      ]
     },
     "metadata": {},
     "output_type": "display_data"
    }
   ],
   "source": [
    "scaled_data=scalar.transform(df00)\n",
    "pca_data=pca.transform(scaled_data)\n",
    "dates=pd.date_range(start=\"2021-04-20\",end=\"2021-04-22\",periods=1)\n",
    "t = [mdates.date2num(datetime.strptime(str(i).split(\".\")[0], \"%Y-%m-%d %H:%M:%S\")) for i in dates]\n",
    "fig, ax = plt.subplots(figsize=(10,8))\n",
    "sc = ax.scatter(pca_data[:,0],pca_data[:,1], c=t[:])\n",
    "\n",
    "loc = mdates.AutoDateLocator()\n",
    "fig.colorbar(sc, ticks=loc,format=mdates.AutoDateFormatter(loc))"
   ]
  },
  {
   "cell_type": "code",
   "execution_count": 13,
   "id": "734b8a0e",
   "metadata": {},
   "outputs": [],
   "source": [
    "dfFinal = dfTimeSeries\n",
    "dfFinal[\"PCA 1\"] = pca_data[0:1][0][0]\n",
    "dfFinal[\"PCA 2\"] = pca_data[0:1][0][1]\n",
    "dfFinal[\"Anomaly\"] = predictiontemp[0]"
   ]
  },
  {
   "cell_type": "code",
   "execution_count": 35,
   "id": "0ff00ea2",
   "metadata": {},
   "outputs": [],
   "source": [
    "js = dfFinal.to_json(orient = 'index')"
   ]
  },
  {
   "cell_type": "code",
   "execution_count": 37,
   "id": "5ef23a7a",
   "metadata": {},
   "outputs": [
    {
     "name": "stdout",
     "output_type": "stream",
     "text": [
      "{\"2021-06-07 16:00:00\":{\"Drive Frequency\":52.9000015259,\"Average Amps\":38.5,\"Discharge Pressure\":652.4099731445,\"Intake Pressure\":1370.9499511719,\"Intake Temperature\":61.9000015259,\"Motor Temperature\":84.8000030518,\"Drive Frequency anomaly\":1,\"Average Amps anomaly\":1,\"Discharge Pressure anomaly\":-1,\"Intake Pressure anomaly\":-1,\"Intake Temperature anomaly\":1,\"Motor Temperature anomaly\":1,\"PCA 1\":1.5077568138,\"PCA 2\":-1.8796244174,\"Anomaly\":1}}\n"
     ]
    }
   ],
   "source": [
    "print(js)"
   ]
  }
 ],
 "metadata": {
  "kernelspec": {
   "display_name": "Hackathon",
   "language": "python",
   "name": "hackathon"
  },
  "language_info": {
   "codemirror_mode": {
    "name": "ipython",
    "version": 3
   },
   "file_extension": ".py",
   "mimetype": "text/x-python",
   "name": "python",
   "nbconvert_exporter": "python",
   "pygments_lexer": "ipython3",
   "version": "3.9.4"
  }
 },
 "nbformat": 4,
 "nbformat_minor": 5
}
